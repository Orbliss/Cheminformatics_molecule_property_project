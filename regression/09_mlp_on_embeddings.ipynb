{
 "cells": [
  {
   "cell_type": "code",
<<<<<<< HEAD
   "execution_count": 1,
=======
   "execution_count": null,
>>>>>>> feat/regression
   "id": "7763faf0",
   "metadata": {},
   "outputs": [],
   "source": [
<<<<<<< HEAD
    "import torch\n",
    "import torch.nn as nn"
=======
    "from pathlib import Path\n",
    "\n",
    "import torch\n",
    "import torch.nn as nn\n",
    "from torch import Tensor\n",
    "from torch.utils.data import Dataset, DataLoader\n",
    "\n",
    "from jaxtyping import Float, jaxtyped\n",
    "from beartype import beartype\n",
    "\n",
    "import numpy as np\n",
    "from numpy.typing import NDArray\n",
    "\n",
    "import matplotlib.pyplot as plt\n",
    "from tqdm import tqdm"
>>>>>>> feat/regression
   ]
  },
  {
   "cell_type": "code",
<<<<<<< HEAD
   "execution_count": null,
   "id": "5ba5adb2",
   "metadata": {},
   "outputs": [],
   "source": []
=======
   "execution_count": 176,
   "id": "5ba5adb2",
   "metadata": {},
   "outputs": [],
   "source": [
    "# Loading the preprocessed data from last notebook\n",
    "DATA_DIR = \"../data\"\n",
    "PDBBIND_DIR = Path(DATA_DIR, \"v2015\")\n",
    "INTERIM_DIR = Path(DATA_DIR, \"interim\")\n",
    "DATASET_PATH = Path(INTERIM_DIR, \"reg_embeddings.npz\")\n",
    "\n",
    "data = np.load(DATASET_PATH)\n",
    "X_train = data[\"arr_0\"]\n",
    "X_test = data[\"arr_1\"]\n",
    "y_train = data[\"arr_2\"]\n",
    "y_test = data[\"arr_3\"]"
   ]
  },
  {
   "cell_type": "code",
   "execution_count": 177,
   "id": "32872d91",
   "metadata": {},
   "outputs": [
    {
     "name": "stdout",
     "output_type": "stream",
     "text": [
      "tensor(2.0600, dtype=torch.float64)\n",
      "torch.Size([])\n"
     ]
    }
   ],
   "source": [
    "y = torch.from_numpy(y_train)\n",
    "\n",
    "print(y[3])\n",
    "print(y[3].shape)"
   ]
  },
  {
   "cell_type": "code",
   "execution_count": 178,
   "id": "07c14c58",
   "metadata": {},
   "outputs": [],
   "source": [
    "class PDBBindEmbeddingDataset(Dataset):\n",
    "    @jaxtyped(typechecker=beartype)\n",
    "    def __init__(\n",
    "        self,\n",
    "        embeddings: Float[NDArray, \"nsamples 1 896\"],\n",
    "        pkds: Float[NDArray, \"nsamples\"]\n",
    "    ) -> None:\n",
    "        self.X = torch.from_numpy(embeddings).float() \n",
    "        self.y = torch.from_numpy(pkds).float() \n",
    "\n",
    "    def __len__(self) -> int:\n",
    "        return len(self.y)\n",
    " \n",
    "    def __getitem__(\n",
    "        self, \n",
    "        idx:int\n",
    "    ) -> tuple[Float[Tensor, \"1 896\"], Float[Tensor, \"\"]]:\n",
    "        return self.X[idx], self.y[idx]\n",
    "        \n",
    "train_dataset = PDBBindEmbeddingDataset(X_train, y_train)\n",
    "test_dataset = PDBBindEmbeddingDataset(X_test, y_test)\n",
    "\n",
    "batch_size=64\n",
    "\n",
    "train_dataloader = DataLoader(train_dataset, batch_size, shuffle=True)\n",
    "test_dataloader = DataLoader(test_dataset, batch_size, shuffle=False)  # Don't shuffle test data"
   ]
  },
  {
   "cell_type": "code",
   "execution_count": 179,
   "id": "d41a398c",
   "metadata": {},
   "outputs": [
    {
     "name": "stdout",
     "output_type": "stream",
     "text": [
      "Train set statistics:\n",
      "  Mean: 1.8952, Std: 0.3325\n",
      "  Min: 0.8200, Max: 2.5000\n",
      "\n",
      "Test set statistics:\n",
      "  Mean: 1.8738, Std: 0.3241\n",
      "  Min: 1.0400, Max: 2.5000\n"
     ]
    }
   ],
   "source": [
    "# Check data statistics to see if test set is easier than train set\n",
    "print(\"Train set statistics:\")\n",
    "print(f\"  Mean: {y_train.mean():.4f}, Std: {y_train.std():.4f}\")\n",
    "print(f\"  Min: {y_train.min():.4f}, Max: {y_train.max():.4f}\")\n",
    "print(f\"\\nTest set statistics:\")\n",
    "print(f\"  Mean: {y_test.mean():.4f}, Std: {y_test.std():.4f}\")\n",
    "print(f\"  Min: {y_test.min():.4f}, Max: {y_test.max():.4f}\")"
   ]
  },
  {
   "cell_type": "code",
   "execution_count": 180,
   "id": "b429727a",
   "metadata": {},
   "outputs": [
    {
     "name": "stdout",
     "output_type": "stream",
     "text": [
      "cpu\n"
     ]
    }
   ],
   "source": [
    "device = 'cuda' if torch.cuda.is_available() else 'cpu'\n",
    "print(torch.cuda.get_device_name(0) if device == 'cuda' else 'cpu')"
   ]
  },
  {
   "cell_type": "code",
   "execution_count": 181,
   "id": "a330c3d0",
   "metadata": {},
   "outputs": [],
   "source": [
    "class PDBBindMLP(nn.Module):\n",
    "    def __init__(self):\n",
    "        super().__init__()\n",
    "        self.linear_relu_stack = nn.Sequential(\n",
    "            nn.Linear(896, 1024),\n",
    "            nn.ReLU(),\n",
    "            nn.Dropout(0.2),\n",
    "            nn.Linear(1024, 512),\n",
    "            nn.ReLU(),\n",
    "            nn.Dropout(0.2),\n",
    "            nn.Linear(512, 256),\n",
    "            nn.ReLU(),\n",
    "            nn.Linear(256, 1)\n",
    "        )\n",
    "\n",
    "    def forward(self, x: Float[Tensor, \"1 896\"]):\n",
    "        # Reshape from [batch, 1, 896] to [batch, 896]\n",
    "        x = x.squeeze(1)\n",
    "        pred = self.linear_relu_stack(x)\n",
    "        # Squeeze output from [batch, 1] to [batch]\n",
    "        return pred.squeeze()\n"
   ]
  },
  {
   "cell_type": "code",
   "execution_count": 182,
   "id": "b1ce0efc",
   "metadata": {},
   "outputs": [],
   "source": [
    "def train_loop(dataloader, model, loss_fn, optimizer):\n",
    "    num_batches = len(dataloader)\n",
    "    train_loss = 0\n",
    "    model.train()\n",
    "    for batch, (X, y) in enumerate(dataloader):\n",
    "        # Compute prediction and loss\n",
    "        pred = model(X)\n",
    "        loss = loss_fn(pred, y)\n",
    "        train_loss += loss.item()\n",
    "\n",
    "        # Backpropagation\n",
    "        loss.backward()\n",
    "        optimizer.step()\n",
    "        optimizer.zero_grad()\n",
    "\n",
    "    train_loss /= num_batches\n",
    "    return train_loss\n",
    "\n",
    "def test_loop(dataloader, model, loss_fn):\n",
    "    # Set the model to evaluation mode - important for batch normalization and dropout layers\n",
    "    # Unnecessary in this situation but added for best practices\n",
    "    model.eval()\n",
    "    num_batches = len(dataloader)\n",
    "    test_loss = 0\n",
    "\n",
    "    # Evaluating the model with torch.no_grad() ensures that no gradients are computed during test mode\n",
    "    # also serves to reduce unnecessary gradient computations and memory usage for tensors with requires_grad=True\n",
    "    with torch.no_grad():\n",
    "        for X, y in dataloader:\n",
    "            pred = model(X)\n",
    "            test_loss += loss_fn(pred, y).item()\n",
    "\n",
    "    test_loss /= num_batches\n",
    "    return test_loss\n"
   ]
  },
  {
   "cell_type": "code",
   "execution_count": 194,
   "id": "c40388c9",
   "metadata": {},
   "outputs": [
    {
     "name": "stdout",
     "output_type": "stream",
     "text": [
      "Starting training...\n"
     ]
    },
    {
     "name": "stderr",
     "output_type": "stream",
     "text": [
      "Training:   0%|          | 0/300 [00:00<?, ?it/s]"
     ]
    },
    {
     "name": "stderr",
     "output_type": "stream",
     "text": [
      "Training: 100%|██████████| 300/300 [05:10<00:00,  1.04s/it, test_loss=0.0993, train_loss=0.016] "
     ]
    },
    {
     "name": "stdout",
     "output_type": "stream",
     "text": [
      "Done!\n"
     ]
    },
    {
     "name": "stderr",
     "output_type": "stream",
     "text": [
      "\n"
     ]
    }
   ],
   "source": [
    "epochs = 300\n",
    "learning_rate = 1e-3\n",
    "model = PDBBindMLP()\n",
    "\n",
    "optimizer = torch.optim.AdamW(model.parameters(), learning_rate)\n",
    "loss_fn = nn.MSELoss()\n",
    "\n",
    "train_losses = []\n",
    "test_losses = []\n",
    "print(\"Starting training...\")\n",
    "with tqdm(range(epochs), desc=\"Training\") as pbar:\n",
    "    for t in pbar:\n",
    "        train_loss = train_loop(train_dataloader, model, loss_fn, optimizer)\n",
    "        test_loss = test_loop(test_dataloader, model, loss_fn)\n",
    "\n",
    "        train_losses.append(train_loss)\n",
    "        test_losses.append(test_loss)\n",
    "        pbar.set_postfix(test_loss=test_loss, train_loss=train_loss)\n",
    "\n",
    "print(\"Done!\")"
   ]
  },
  {
   "cell_type": "code",
   "execution_count": 211,
   "id": "49ae32ee",
   "metadata": {},
   "outputs": [
    {
     "data": {
      "image/png": "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",
      "text/plain": [
       "<Figure size 640x480 with 1 Axes>"
      ]
     },
     "metadata": {},
     "output_type": "display_data"
    }
   ],
   "source": [
    "epochs = range(1, len(train_losses) + 1)\n",
    "\n",
    "# Plotting loss by epoch\n",
    "fig, ax = plt.subplots()\n",
    "ax.plot(epochs, train_losses, label=\"Train Loss\", linewidth=2)\n",
    "ax.plot(epochs, test_losses, label=\"Test Loss\", linewidth=2)\n",
    "ax.legend()\n",
    "ax.set_xlabel('Loss')\n",
    "ax.set_ylabel('Epoch')\n",
    "ax.set_title('Train vs. Test Loss by Epoch')\n",
    "\n",
    "plt.show()"
   ]
>>>>>>> feat/regression
  }
 ],
 "metadata": {
  "kernelspec": {
   "display_name": "cheminformatics_project",
   "language": "python",
   "name": "python3"
  },
  "language_info": {
   "codemirror_mode": {
    "name": "ipython",
    "version": 3
   },
   "file_extension": ".py",
   "mimetype": "text/x-python",
   "name": "python",
   "nbconvert_exporter": "python",
   "pygments_lexer": "ipython3",
   "version": "3.11.14"
  }
 },
 "nbformat": 4,
 "nbformat_minor": 5
}

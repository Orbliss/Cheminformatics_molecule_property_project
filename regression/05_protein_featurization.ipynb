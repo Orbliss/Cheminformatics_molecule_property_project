{
 "cells": [
  {
   "cell_type": "markdown",
   "id": "cbb8661a",
   "metadata": {},
   "source": [
    "# Simple featurization of protein pockets\n",
    "\n",
    "Let's try loading our pocket structures, and adding simple metrics about them. Maybe this will contain enough information"
   ]
  },
  {
   "cell_type": "code",
   "execution_count": 3,
   "id": "892e53c3",
   "metadata": {},
   "outputs": [],
   "source": [
    "import os\n",
    "from pathlib import Path\n",
    "\n",
    "from biopandas.pdb import PandasPdb\n",
    "import numpy as np"
   ]
  },
  {
   "cell_type": "code",
   "execution_count": 4,
   "id": "afc13999",
   "metadata": {},
   "outputs": [],
   "source": [
    "# Load the data\n",
    "DATA_DIR = \"../data\"\n",
    "PDBBIND_DIR = Path(DATA_DIR, \"v2015\")\n",
    "INTERIM_DIR = Path(DATA_DIR, \"interim\")\n",
    "DATASET_PATH = Path(INTERIM_DIR, \"reg_preprocessed_1.npz\")\n",
    "\n",
    "data = np.load(DATASET_PATH)\n",
    "train_ids = data[\"train_ids\"]\n",
    "test_ids = data[\"test_ids\"]"
   ]
  },
  {
   "cell_type": "markdown",
   "id": "ed2bb759",
   "metadata": {},
   "source": [
    "### We're going to encodre the properties of each aminoacid\n",
    "\n",
    "Aminoacid characteristics are what's going to go into our pocket features, hopefully aiding our model in making a prediction of which ligands will bind best to which pockets"
   ]
  },
  {
   "cell_type": "code",
   "execution_count": 5,
   "id": "f65340ce",
   "metadata": {},
   "outputs": [],
   "source": [
    "# Amino acid properties\n",
    "AA_PROPERTIES = {\n",
    "    'ALA': {'charge': 0, 'hydrophobic': 1, 'aromatic': 0, 'hbond_donor': 0, 'hbond_acceptor': 0},\n",
    "    'ARG': {'charge': 1, 'hydrophobic': 0, 'aromatic': 0, 'hbond_donor': 1, 'hbond_acceptor': 0},\n",
    "    'ASN': {'charge': 0, 'hydrophobic': 0, 'aromatic': 0, 'hbond_donor': 1, 'hbond_acceptor': 1},\n",
    "    'ASP': {'charge': -1, 'hydrophobic': 0, 'aromatic': 0, 'hbond_donor': 0, 'hbond_acceptor': 1},\n",
    "    'CYS': {'charge': 0, 'hydrophobic': 1, 'aromatic': 0, 'hbond_donor': 0, 'hbond_acceptor': 0},\n",
    "    'GLN': {'charge': 0, 'hydrophobic': 0, 'aromatic': 0, 'hbond_donor': 1, 'hbond_acceptor': 1},\n",
    "    'GLU': {'charge': -1, 'hydrophobic': 0, 'aromatic': 0, 'hbond_donor': 0, 'hbond_acceptor': 1},\n",
    "    'GLY': {'charge': 0, 'hydrophobic': 0, 'aromatic': 0, 'hbond_donor': 0, 'hbond_acceptor': 0},\n",
    "    'HIS': {'charge': 0.5, 'hydrophobic': 0, 'aromatic': 1, 'hbond_donor': 1, 'hbond_acceptor': 1},\n",
    "    'ILE': {'charge': 0, 'hydrophobic': 1, 'aromatic': 0, 'hbond_donor': 0, 'hbond_acceptor': 0},\n",
    "    'LEU': {'charge': 0, 'hydrophobic': 1, 'aromatic': 0, 'hbond_donor': 0, 'hbond_acceptor': 0},\n",
    "    'LYS': {'charge': 1, 'hydrophobic': 0, 'aromatic': 0, 'hbond_donor': 1, 'hbond_acceptor': 0},\n",
    "    'MET': {'charge': 0, 'hydrophobic': 1, 'aromatic': 0, 'hbond_donor': 0, 'hbond_acceptor': 0},\n",
    "    'PHE': {'charge': 0, 'hydrophobic': 1, 'aromatic': 1, 'hbond_donor': 0, 'hbond_acceptor': 0},\n",
    "    'PRO': {'charge': 0, 'hydrophobic': 1, 'aromatic': 0, 'hbond_donor': 0, 'hbond_acceptor': 0},\n",
    "    'SER': {'charge': 0, 'hydrophobic': 0, 'aromatic': 0, 'hbond_donor': 1, 'hbond_acceptor': 1},\n",
    "    'THR': {'charge': 0, 'hydrophobic': 0, 'aromatic': 0, 'hbond_donor': 1, 'hbond_acceptor': 1},\n",
    "    'TRP': {'charge': 0, 'hydrophobic': 1, 'aromatic': 1, 'hbond_donor': 1, 'hbond_acceptor': 0},\n",
    "    'TYR': {'charge': 0, 'hydrophobic': 1, 'aromatic': 1, 'hbond_donor': 1, 'hbond_acceptor': 1},\n",
    "    'VAL': {'charge': 0, 'hydrophobic': 1, 'aromatic': 0, 'hbond_donor': 0, 'hbond_acceptor': 0},\n",
    "}\n"
   ]
  },
  {
   "cell_type": "code",
   "execution_count": 9,
   "id": "c3830eeb",
   "metadata": {},
   "outputs": [
    {
     "data": {
      "text/plain": [
       "<biopandas.pdb.pandas_pdb.PandasPdb at 0x7f9175ef1550>"
      ]
     },
     "execution_count": 9,
     "metadata": {},
     "output_type": "execute_result"
    }
   ],
   "source": [
    "pdb_id = test_ids[0]\n",
    "\n",
    "\n",
    "# The mol2 file is stored as such, see above file structure\n",
    "pocket_pdb_path = Path(PDBBIND_DIR, pdb_id, pdb_id + \"_pocket.pdb\")\n",
    "\n",
    "# We'll make sure that every retained ID actually has available pocket data\n",
    "if not os.path.exists(pocket_pdb_path):\n",
    "    raise ValueError(f\"Sorry, this complex has no pocket data: {pdb_id}\")\n",
    "\n",
    "ppdb = PandasPdb().read_pdb(pocket_pdb_path)\n",
    "\n",
    "ppdb"
   ]
  },
  {
   "cell_type": "code",
   "execution_count": null,
   "id": "ace04277",
   "metadata": {},
   "outputs": [],
   "source": [
    "def featurize_pockets_for_ids(pdb_ids: list[str]):\n",
    "    for pdb_id in pdb_ids:\n",
    "        # The mol2 file is stored as such, see above file structure\n",
    "        pocket_pdb_path = Path(PDBBIND_DIR, pdb_id, pdb_id + \"_pocket.pdb\")\n",
    "\n",
    "        # We'll make sure that every retained ID actually has available pocket data\n",
    "        if not os.path.exists(pocket_pdb_path):\n",
    "            raise ValueError(f\"Sorry, this complex has no pocket data: {pdb_id}\")\n",
    "\n",
    "        ppdb = PandasPdb().read_pdb(pocket_pdb_path)\n",
    "\n",
    "        \n",
    "\n",
    "featurize_pockets_for_ids(train_ids)\n",
    "featurize_pockets_for_ids(test_ids)"
   ]
  },
  {
   "cell_type": "code",
   "execution_count": 3,
   "id": "b1f4dadb",
   "metadata": {},
   "outputs": [
    {
     "name": "stdout",
     "output_type": "stream",
     "text": [
      "01_data_formatting.ipynb\t\t  04_pca_on_ligands.ipynb\n",
      "02_linear_regression_on_signatures.ipynb  05_protein_featurization.ipynb\n",
      "03_xgboost_on_signatures.ipynb\n"
     ]
    }
   ],
   "source": [
    "!ls"
   ]
  }
 ],
 "metadata": {
  "kernelspec": {
   "display_name": "cheminformatics_project",
   "language": "python",
   "name": "python3"
  },
  "language_info": {
   "codemirror_mode": {
    "name": "ipython",
    "version": 3
   },
   "file_extension": ".py",
   "mimetype": "text/x-python",
   "name": "python",
   "nbconvert_exporter": "python",
   "pygments_lexer": "ipython3",
   "version": "3.11.13"
  }
 },
 "nbformat": 4,
 "nbformat_minor": 5
}

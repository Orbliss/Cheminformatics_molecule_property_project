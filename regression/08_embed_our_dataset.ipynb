{
  "cells": [
    {
      "cell_type": "markdown",
      "id": "679bdc4f",
      "metadata": {
        "id": "679bdc4f"
      },
      "source": [
        "# Using transformer embeddings as a data representation\n",
        "\n",
        "Now that we've generated our embeddings for SMILES strings, we want to combine them with embeddings for protein structues. For that, I decided to go with ESM2, since it works directly with protein structures and is therefore quite lightweight, yet has still been proven to contain structural information of proteins.\n",
        "\n",
        "This notebook doesn't contain many interesting results, as it's just me preprocessing the data which we will later feed into a neural network.\n",
        "\n",
        "NOTE: This notebook was also run through Colab on an A100. While embedding our sequences with ESM's smallest model is doable on a CPU in one hour, the A100 gets the entire job done in under a second."
      ]
    },
    {
      "cell_type": "code",
      "execution_count": 1,
      "id": "WXDVD8jd52lY",
      "metadata": {
        "colab": {
          "base_uri": "https://localhost:8080/"
        },
        "id": "WXDVD8jd52lY",
        "outputId": "e43c3712-f2a8-4900-b394-4c26fe003f07"
      },
      "outputs": [
        {
          "name": "stdout",
          "output_type": "stream",
          "text": [
            "Cloning into 'Cheminformatics_molecule_property_project'...\n",
            "remote: Enumerating objects: 184, done.\u001b[K\n",
            "remote: Counting objects: 100% (1/1), done.\u001b[K\n",
            "remote: Total 184 (delta 0), reused 0 (delta 0), pack-reused 183 (from 1)\u001b[K\n",
            "Receiving objects: 100% (184/184), 1.14 MiB | 21.97 MiB/s, done.\n",
            "Resolving deltas: 100% (96/96), done.\n",
            "Collecting fair-esm\n",
            "  Downloading fair_esm-2.0.0-py3-none-any.whl.metadata (37 kB)\n",
            "Collecting rdkit\n",
            "  Downloading rdkit-2025.9.1-cp312-cp312-manylinux_2_28_x86_64.whl.metadata (4.1 kB)\n",
            "Collecting biopandas\n",
            "  Downloading biopandas-0.5.1-py3-none-any.whl.metadata (1.6 kB)\n",
            "Requirement already satisfied: numpy in /usr/local/lib/python3.12/dist-packages (from rdkit) (2.0.2)\n",
            "Requirement already satisfied: Pillow in /usr/local/lib/python3.12/dist-packages (from rdkit) (11.3.0)\n",
            "Requirement already satisfied: pandas>=0.24.2 in /usr/local/lib/python3.12/dist-packages (from biopandas) (2.2.2)\n",
            "Collecting mmtf-python==1.1.3 (from biopandas)\n",
            "  Downloading mmtf_python-1.1.3-py2.py3-none-any.whl.metadata (1.2 kB)\n",
            "Collecting looseversion==1.1.2 (from biopandas)\n",
            "  Downloading looseversion-1.1.2-py3-none-any.whl.metadata (4.6 kB)\n",
            "Requirement already satisfied: setuptools in /usr/local/lib/python3.12/dist-packages (from biopandas) (75.2.0)\n",
            "Requirement already satisfied: msgpack>=1.0.0 in /usr/local/lib/python3.12/dist-packages (from mmtf-python==1.1.3->biopandas) (1.1.2)\n",
            "Requirement already satisfied: python-dateutil>=2.8.2 in /usr/local/lib/python3.12/dist-packages (from pandas>=0.24.2->biopandas) (2.9.0.post0)\n",
            "Requirement already satisfied: pytz>=2020.1 in /usr/local/lib/python3.12/dist-packages (from pandas>=0.24.2->biopandas) (2025.2)\n",
            "Requirement already satisfied: tzdata>=2022.7 in /usr/local/lib/python3.12/dist-packages (from pandas>=0.24.2->biopandas) (2025.2)\n",
            "Requirement already satisfied: six>=1.5 in /usr/local/lib/python3.12/dist-packages (from python-dateutil>=2.8.2->pandas>=0.24.2->biopandas) (1.17.0)\n",
            "Downloading fair_esm-2.0.0-py3-none-any.whl (93 kB)\n",
            "\u001b[2K   \u001b[90m━━━━━━━━━━━━━━━━━━━━━━━━━━━━━━━━━━━━━━━━\u001b[0m \u001b[32m93.1/93.1 kB\u001b[0m \u001b[31m6.8 MB/s\u001b[0m eta \u001b[36m0:00:00\u001b[0m\n",
            "\u001b[?25hDownloading rdkit-2025.9.1-cp312-cp312-manylinux_2_28_x86_64.whl (36.2 MB)\n",
            "\u001b[2K   \u001b[90m━━━━━━━━━━━━━━━━━━━━━━━━━━━━━━━━━━━━━━━━\u001b[0m \u001b[32m36.2/36.2 MB\u001b[0m \u001b[31m75.1 MB/s\u001b[0m eta \u001b[36m0:00:00\u001b[0m\n",
            "\u001b[?25hDownloading biopandas-0.5.1-py3-none-any.whl (68 kB)\n",
            "\u001b[2K   \u001b[90m━━━━━━━━━━━━━━━━━━━━━━━━━━━━━━━━━━━━━━━━\u001b[0m \u001b[32m68.3/68.3 kB\u001b[0m \u001b[31m5.3 MB/s\u001b[0m eta \u001b[36m0:00:00\u001b[0m\n",
            "\u001b[?25hDownloading looseversion-1.1.2-py3-none-any.whl (8.1 kB)\n",
            "Downloading mmtf_python-1.1.3-py2.py3-none-any.whl (25 kB)\n",
            "Installing collected packages: fair-esm, rdkit, mmtf-python, looseversion, biopandas\n",
            "Successfully installed biopandas-0.5.1 fair-esm-2.0.0 looseversion-1.1.2 mmtf-python-1.1.3 rdkit-2025.9.1\n",
            "/content/Cheminformatics_molecule_property_project\n"
          ]
        }
      ],
      "source": [
        "!git clone https://github.com/Orbliss/Cheminformatics_molecule_property_project\n",
        "!pip install fair-esm rdkit biopandas\n",
        "\n",
        "%cd /content/Cheminformatics_molecule_property_project"
      ]
    },
    {
      "cell_type": "code",
      "execution_count": 2,
      "id": "f283ec15",
      "metadata": {
        "colab": {
          "base_uri": "https://localhost:8080/"
        },
        "id": "f283ec15",
        "outputId": "32ced774-0681-4299-93a8-d30e39632fbb"
      },
      "outputs": [
        {
          "name": "stdout",
          "output_type": "stream",
          "text": [
            "Data directory: /content/Cheminformatics_molecule_property_project/data\n"
          ]
        }
      ],
      "source": [
        "import sys\n",
        "sys.path.append(\"..\")\n",
        "\n",
        "import os\n",
        "import json\n",
        "from pathlib import Path\n",
        "\n",
        "import torch\n",
        "import numpy as np\n",
        "import esm\n",
        "from rdkit import Chem\n",
        "from biopandas.pdb import PandasPdb\n",
        "from transformers import PretrainedConfig, PreTrainedModel, AutoTokenizer\n",
        "\n",
        "from src.transformer_classes import CuteSmileyBERT, CuteSmileyBERTConfig, SMILESTokenizer\n",
        "from src.download_dataset import download_datasets, extract_files, delete_files"
      ]
    },
    {
      "cell_type": "code",
      "execution_count": 3,
      "id": "wS_vVh-w_ZsB",
      "metadata": {
        "colab": {
          "base_uri": "https://localhost:8080/"
        },
        "id": "wS_vVh-w_ZsB",
        "outputId": "2ec6f451-fad1-40cc-eba3-310f8f9e9186"
      },
      "outputs": [
        {
          "name": "stdout",
          "output_type": "stream",
          "text": [
            "Téléchargement de pdbbind_v2015.tar.gz...\n"
          ]
        },
        {
          "name": "stderr",
          "output_type": "stream",
          "text": [
            "pdbbind_v2015.tar.gz: 100%|██████████| 1.91G/1.91G [01:31<00:00, 22.5MB/s]\n"
          ]
        },
        {
          "name": "stdout",
          "output_type": "stream",
          "text": [
            "pdbbind_v2015.tar.gz téléchargé et enregistré sous /content/Cheminformatics_molecule_property_project/data/pdbbind_v2015.tar.gz\n",
            "Téléchargement de sider.csv.gz...\n"
          ]
        },
        {
          "name": "stderr",
          "output_type": "stream",
          "text": [
            "/usr/local/lib/python3.12/dist-packages/urllib3/connectionpool.py:1097: InsecureRequestWarning: Unverified HTTPS request is being made to host 'deepchemdata.s3-us-west-1.amazonaws.com'. Adding certificate verification is strongly advised. See: https://urllib3.readthedocs.io/en/latest/advanced-usage.html#tls-warnings\n",
            "  warnings.warn(\n",
            "sider.csv.gz: 100%|██████████| 33.9k/33.9k [00:00<00:00, 249kB/s]\n"
          ]
        },
        {
          "name": "stdout",
          "output_type": "stream",
          "text": [
            "sider.csv.gz téléchargé et enregistré sous /content/Cheminformatics_molecule_property_project/data/sider.csv.gz\n",
            "Extraction de pdbbind_v2015.tar.gz...\n"
          ]
        },
        {
          "name": "stderr",
          "output_type": "stream",
          "text": [
            "Extracting pdbbind_v2015.tar.gz: 100%|██████████| 64861/64861 [00:58<00:00, 1106.00it/s]\n"
          ]
        },
        {
          "name": "stdout",
          "output_type": "stream",
          "text": [
            "pdbbind_v2015.tar.gz extrait dans /content/Cheminformatics_molecule_property_project/data/pdbbind_v2015\n",
            "Extraction de sider.csv.gz...\n"
          ]
        },
        {
          "name": "stderr",
          "output_type": "stream",
          "text": [
            "Extracting sider.csv.gz: 184kB [00:00, 110MB/s]                     \n"
          ]
        },
        {
          "name": "stdout",
          "output_type": "stream",
          "text": [
            "sider.csv.gz extrait vers /content/Cheminformatics_molecule_property_project/data/sider.csv\n"
          ]
        }
      ],
      "source": [
        "download_datasets()\n",
        "extract_files()\n",
        "delete_files()"
      ]
    },
    {
      "cell_type": "code",
      "execution_count": 4,
      "id": "0681299f",
      "metadata": {
        "colab": {
          "base_uri": "https://localhost:8080/",
          "height": 81,
          "referenced_widgets": [
            "fe7c1184d2a84b1aa545b66bd47a14a9",
            "9dec2350a3f34da5b772067f3cf5c622",
            "c21384279c7848eb95ef338b82f4a431",
            "6888cde354714ce4b8db32922306f964",
            "9a3f92bd71724fe9bb00d060f5f0df3a",
            "8c52e1cbea754571b10dc91c0f5ab9eb",
            "30d22d78572e42e3bb9b314419c3946f",
            "e1b08f8c168b413f91136f691f06ec82",
            "96d699ecc55f40178d3753ee4052bccd",
            "a82357c7c38f48b498915778fd80667f",
            "7c3a65c1898b41cdba7ef1a02b654bfd",
            "ad47aff76d594a8ba678721ccecaee74",
            "37f1b9ddfe07475e964e83becc1bcf60",
            "7e2d8cad8da64552b5f2280dd98ecb31",
            "0b60df0adfb3451bb467abd29592931d",
            "8a8d50ff936a42e78462c11d8f16e707",
            "e1d457d3fd314d5593d6962aaa05c875",
            "99d9f5dfe80a4b3c89db7406376836b0",
            "b27c0a035e0a4b41a186c15ef9344006",
            "adc9516a7936435a96aae271a492b071",
            "bc1bf0ad3fee4b1ea406dca6b230bda3",
            "404e3d2da5e249e899320b199d78fa0b"
          ]
        },
        "id": "0681299f",
        "outputId": "f6736071-20a3-44f2-9f76-d19e3fb1e7fe"
      },
      "outputs": [
        {
          "data": {
            "application/vnd.jupyter.widget-view+json": {
              "model_id": "fe7c1184d2a84b1aa545b66bd47a14a9",
              "version_major": 2,
              "version_minor": 0
            },
            "text/plain": [
              "config.json:   0%|          | 0.00/276 [00:00<?, ?B/s]"
            ]
          },
          "metadata": {},
          "output_type": "display_data"
        },
        {
          "data": {
            "application/vnd.jupyter.widget-view+json": {
              "model_id": "ad47aff76d594a8ba678721ccecaee74",
              "version_major": 2,
              "version_minor": 0
            },
            "text/plain": [
              "model.safetensors:   0%|          | 0.00/19.2M [00:00<?, ?B/s]"
            ]
          },
          "metadata": {},
          "output_type": "display_data"
        }
      ],
      "source": [
        "# Loading the model checkpoint from Hugging Face Hub\n",
        "REPO = \"marcosbolanos/cutesmileybert-4.8m\"\n",
        "\n",
        "# We're defining the tokenizer locally for now\n",
        "# Hugging Face needed standardized definitions, no time to implement\n",
        "VOCAB_PATH = \"./data/vocab.json\"\n",
        "with open(VOCAB_PATH, \"r\") as f:\n",
        "    vocab = json.load(f)\n",
        "inv_vocab = {v : k for k, v in vocab.items()}\n",
        "tokenizer = SMILESTokenizer(vocab, inv_vocab)\n",
        "\n",
        "# This is the model config, loaded from the Hugging Face Repo\n",
        "config = CuteSmileyBERTConfig.from_pretrained(REPO)\n",
        "# And this loads the model's weights\n",
        "ligand_embedder = CuteSmileyBERT.from_pretrained(REPO, config=config)\n",
        "\n",
        "# This is going to be our function to embed a single smiles string\n",
        "def get_smiles_pooled_embeddings(smiles: str):\n",
        "    # Tokenize the smiles string\n",
        "    encoded = tokenizer(smiles, return_tensors=\"pt\")\n",
        "    input_ids = encoded[\"input_ids\"]\n",
        "    # Feed the tokens into the embedder, recover the embeddings\n",
        "    with torch.no_grad():\n",
        "        emb = ligand_embedder(input_ids, return_embeddings=True)\n",
        "\n",
        "    # Here, the embeddings are tensors containing 256-long column vectors for each token\n",
        "    # In practice, we'll mean pool the embeddings to get a gloabl representation as a single column\n",
        "    pooled_emb = emb.mean(dim=1)\n",
        "    return pooled_emb"
      ]
    },
    {
      "cell_type": "code",
      "execution_count": 6,
      "id": "404cf8c9",
      "metadata": {
        "id": "404cf8c9"
      },
      "outputs": [],
      "source": [
        "# Now we load the test/train datasets, just like last time\n",
        "DATA_DIR = \"./data\"\n",
        "PDBBIND_DIR = Path(DATA_DIR, \"v2015\")\n",
        "INTERIM_DIR = Path(DATA_DIR, \"interim\")\n",
        "DATASET_PATH = Path(INTERIM_DIR, \"reg_preprocessed_1.npz\")\n",
        "\n",
        "data = np.load(DATASET_PATH)\n",
        "# We're going to do operations based on our list of train and test IDs\n",
        "# Each individual file will be loaded and embedded\n",
        "train_ids = data[\"train_ids\"]\n",
        "test_ids = data[\"test_ids\"]"
      ]
    },
    {
      "cell_type": "code",
      "execution_count": 7,
      "id": "2a256302",
      "metadata": {
        "id": "2a256302"
      },
      "outputs": [],
      "source": [
        "# Here, we're creating the loop to embed all of our train and test IDs\n",
        "def get_smiles_embeddings_list(pdb_ids: list[str]):\n",
        "    embeddings = []\n",
        "    for pdb_id in pdb_ids:\n",
        "        ligand_mol2_path = Path(PDBBIND_DIR, pdb_id, pdb_id + \"_ligand.mol2\")\n",
        "        # Make sure the file actually exists, otherwise skip\n",
        "        if not os.path.exists(ligand_mol2_path):\n",
        "            print(f'molecule {pdb_id} file not found')\n",
        "            continue\n",
        "        mol = Chem.MolFromMol2File(ligand_mol2_path, sanitize=False, removeHs=False)\n",
        "        # Again, we skip it if the molecule didn't load\n",
        "        if mol is None:\n",
        "            print(f'molecule {pdb_id} didnt load successfully')\n",
        "            continue\n",
        "        # Removing explicit hydrogens to match the format our model was trained on\n",
        "        mol = Chem.RemoveHs(mol, updateExplicitCount=True)\n",
        "        smiles = Chem.MolToSmiles(mol,\n",
        "                                  canonical=True,\n",
        "                                  isomericSmiles=False,\n",
        "                                  kekuleSmiles=False,\n",
        "                                  allHsExplicit=False)\n",
        "        smiles_emb = get_smiles_pooled_embeddings(smiles)\n",
        "        embeddings.append(smiles_emb)\n",
        "    return embeddings"
      ]
    },
    {
      "cell_type": "code",
      "execution_count": 8,
      "id": "956005ee",
      "metadata": {
        "colab": {
          "base_uri": "https://localhost:8080/"
        },
        "id": "956005ee",
        "outputId": "a69336c0-d8e4-4f6d-f7c2-876d6ad7ba01"
      },
      "outputs": [
        {
          "name": "stdout",
          "output_type": "stream",
          "text": [
            "PYIELKLAGRWPVKVFIHNHKRYSAGERIVDIIATD\n"
          ]
        }
      ],
      "source": [
        "# Now we need embeddings for the protein pockets\n",
        "# For this, we're going to iterate through our dataset and get the sequences\n",
        "# We have three-letter AA names, so we'll map them to single letter\n",
        "aa_map = {\n",
        "    'ALA':'A', 'ARG':'R', 'ASN':'N', 'ASP':'D',\n",
        "    'CYS':'C', 'GLU':'E', 'GLN':'Q', 'GLY':'G',\n",
        "    'HIS':'H', 'ILE':'I', 'LEU':'L', 'LYS':'K',\n",
        "    'MET':'M', 'PHE':'F', 'PRO':'P', 'SER':'S',\n",
        "    'THR':'T', 'TRP':'W', 'TYR':'Y', 'VAL':'V',\n",
        "    'SEC':'U', 'PYL':'O'\n",
        "}\n",
        "\n",
        "# This function gives us the sequence string for a given PDB ID\n",
        "def get_pocket_sequence(pdb_id: str) -> str:\n",
        "    pocket_pdb_path = Path(PDBBIND_DIR, pdb_id, pdb_id + \"_pocket.pdb\")\n",
        "    if not Path.exists(pocket_pdb_path):\n",
        "        print(f'Warning: couldnt find pocket for complex {pdb_id}')\n",
        "        return None\n",
        "    ppdb = PandasPdb().read_pdb(pocket_pdb_path)\n",
        "    df = ppdb.df['ATOM']\n",
        "    df = df.drop_duplicates(subset='residue_number', keep='first')\n",
        "    df = df.sort_values(by=['chain_id', 'residue_number'])\n",
        "    seq = ''.join(aa_map.get(res, 'X') for res in df['residue_name'])\n",
        "    return seq\n",
        "\n",
        "sequence = get_pocket_sequence(test_ids[0])\n",
        "print(sequence)"
      ]
    },
    {
      "cell_type": "code",
      "execution_count": 9,
      "id": "80d5396c",
      "metadata": {
        "colab": {
          "base_uri": "https://localhost:8080/"
        },
        "id": "80d5396c",
        "outputId": "1bfbfe30-19c4-4f9a-c2e3-52a3103a5bc3"
      },
      "outputs": [
        {
          "name": "stdout",
          "output_type": "stream",
          "text": [
            "Downloading: \"https://dl.fbaipublicfiles.com/fair-esm/models/esm2_t30_150M_UR50D.pt\" to /root/.cache/torch/hub/checkpoints/esm2_t30_150M_UR50D.pt\n",
            "Downloading: \"https://dl.fbaipublicfiles.com/fair-esm/regression/esm2_t30_150M_UR50D-contact-regression.pt\" to /root/.cache/torch/hub/checkpoints/esm2_t30_150M_UR50D-contact-regression.pt\n"
          ]
        },
        {
          "data": {
            "text/plain": [
              "ESM2(\n",
              "  (embed_tokens): Embedding(33, 640, padding_idx=1)\n",
              "  (layers): ModuleList(\n",
              "    (0-29): 30 x TransformerLayer(\n",
              "      (self_attn): MultiheadAttention(\n",
              "        (k_proj): Linear(in_features=640, out_features=640, bias=True)\n",
              "        (v_proj): Linear(in_features=640, out_features=640, bias=True)\n",
              "        (q_proj): Linear(in_features=640, out_features=640, bias=True)\n",
              "        (out_proj): Linear(in_features=640, out_features=640, bias=True)\n",
              "        (rot_emb): RotaryEmbedding()\n",
              "      )\n",
              "      (self_attn_layer_norm): LayerNorm((640,), eps=1e-05, elementwise_affine=True)\n",
              "      (fc1): Linear(in_features=640, out_features=2560, bias=True)\n",
              "      (fc2): Linear(in_features=2560, out_features=640, bias=True)\n",
              "      (final_layer_norm): LayerNorm((640,), eps=1e-05, elementwise_affine=True)\n",
              "    )\n",
              "  )\n",
              "  (contact_head): ContactPredictionHead(\n",
              "    (regression): Linear(in_features=600, out_features=1, bias=True)\n",
              "    (activation): Sigmoid()\n",
              "  )\n",
              "  (emb_layer_norm_after): LayerNorm((640,), eps=1e-05, elementwise_affine=True)\n",
              "  (lm_head): RobertaLMHead(\n",
              "    (dense): Linear(in_features=640, out_features=640, bias=True)\n",
              "    (layer_norm): LayerNorm((640,), eps=1e-05, elementwise_affine=True)\n",
              "  )\n",
              ")"
            ]
          },
          "execution_count": 9,
          "metadata": {},
          "output_type": "execute_result"
        }
      ],
      "source": [
        "# Now we load ESM2 thanks to the python package\n",
        "model, alphabet = esm.pretrained.esm2_t30_150M_UR50D()\n",
        "batch_converter = alphabet.get_batch_converter()\n",
        "model.eval()"
      ]
    },
    {
      "cell_type": "code",
      "execution_count": 10,
      "id": "tHwaMC0o_g-5",
      "metadata": {
        "colab": {
          "base_uri": "https://localhost:8080/"
        },
        "id": "tHwaMC0o_g-5",
        "outputId": "b42c9a09-75ef-4a85-ebe0-e4430b1d6b95"
      },
      "outputs": [
        {
          "name": "stdout",
          "output_type": "stream",
          "text": [
            "NVIDIA A100-SXM4-80GB\n"
          ]
        }
      ],
      "source": [
        "device = 'cuda' if torch.cuda.is_available() else 'cpu'\n",
        "print(torch.cuda.get_device_name())\n",
        "model = model.to(device)"
      ]
    },
    {
      "cell_type": "code",
      "execution_count": 11,
      "id": "9b54f91c",
      "metadata": {
        "colab": {
          "base_uri": "https://localhost:8080/"
        },
        "id": "9b54f91c",
        "outputId": "7ead5c91-c6fa-44f1-85c1-427fb2821db6"
      },
      "outputs": [
        {
          "name": "stdout",
          "output_type": "stream",
          "text": [
            "Preprocessing data for ESM2...\n",
            "Computing embeddings...\n",
            "Done !\n",
            "Preprocessing data for ESM2...\n",
            "Computing embeddings...\n",
            "Done !\n",
            "3509\n",
            "195\n",
            "torch.Size([640])\n",
            "Missing IDs: train: 0, test: 0\n"
          ]
        }
      ],
      "source": [
        "# This helper will get pocket sequences and put them in the required format\n",
        "# ESM2 takes inputs as a list of ('name', SEQUENCE) tuples\n",
        "def get_esm_inputs_for_pdb_ids(pdb_ids:list[str]) -> tuple[list[tuple[str, str]], list[str]]:\n",
        "    missing_ids = []\n",
        "    esm_inputs = []\n",
        "    for pdb_id in pdb_ids:\n",
        "        seq = get_pocket_sequence(pdb_id)\n",
        "        if seq == None:\n",
        "            missing_ids.append(pdb_id)\n",
        "            continue\n",
        "        esm_inputs.append((str(pdb_id), seq))\n",
        "    return esm_inputs, missing_ids\n",
        "\n",
        "# Generate embeddings for a given list of PDB IDs\n",
        "def get_esm_embedding_list(pdb_ids:list[str]):\n",
        "    print(\"Preprocessing data for ESM2...\")\n",
        "    esm_inputs, missing_ids = get_esm_inputs_for_pdb_ids(pdb_ids)\n",
        "    # This is the tokenizer used by ESM2\n",
        "    batch_labels, batch_strs, batch_tokens = batch_converter(esm_inputs)\n",
        "\n",
        "    batch_tokens = batch_tokens.to(device)\n",
        "\n",
        "    # This gives us the last-layer token embeddings of each of our sequences\n",
        "    # return_contacts = False means we won't get the attention patterns\n",
        "    print(\"Computing embeddings...\")\n",
        "    with torch.no_grad():\n",
        "        results = model(batch_tokens, repr_layers=[30], return_contacts=False)\n",
        "    token_embeddings = results[\"representations\"][30]\n",
        "\n",
        "    # We then mean pool the token embeddings for every sequence\n",
        "    # The result is a list of per-sequence embeddings, which we will fetch\n",
        "    sequence_embeddings = []\n",
        "    for i, (_, seq) in enumerate(esm_inputs):\n",
        "        sequence_embeddings.append(token_embeddings[i, 1 : len(seq) + 1].mean(0))\n",
        "    print(\"Done !\")\n",
        "    return sequence_embeddings, missing_ids\n",
        "\n",
        "train_esm_embeddings, missing_train_ids = get_esm_embedding_list(train_ids)\n",
        "test_esm_embeddings, missing_test_ids = get_esm_embedding_list(test_ids)\n",
        "\n",
        "print(len(train_esm_embeddings))\n",
        "print(len(test_esm_embeddings))\n",
        "print(train_esm_embeddings[0].shape)\n",
        "print(f'Missing IDs: train: {len(missing_train_ids)}, test: {len(missing_test_ids)}')"
      ]
    },
    {
      "cell_type": "code",
      "execution_count": 17,
      "id": "DmzoNJHnD1E0",
      "metadata": {
        "id": "DmzoNJHnD1E0"
      },
      "outputs": [],
      "source": [
        "def reshape_rows_to_col(esm_embeddings):\n",
        "    return [array.reshape(1, -1) for array in esm_embeddings]\n",
        "\n",
        "train_esm_embeddings_reshaped = reshape_rows_to_col(train_esm_embeddings)\n",
        "test_esm_embeddings_reshaped = reshape_rows_to_col(test_esm_embeddings)"
      ]
    },
    {
      "cell_type": "code",
      "execution_count": 13,
      "id": "6a9b519e",
      "metadata": {
        "colab": {
          "base_uri": "https://localhost:8080/"
        },
        "id": "6a9b519e",
        "outputId": "24e1f942-180d-4ea9-aa4d-5070c164cd2c"
      },
      "outputs": [
        {
          "name": "stderr",
          "output_type": "stream",
          "text": [
            "[13:12:14] 3mof_ligand: Warning - no explicit hydrogens in mol2 file but needed for formal charge estimation.\n",
            "[13:12:15] 2rk8_ligand: Warning - no explicit hydrogens in mol2 file but needed for formal charge estimation.\n",
            "[13:12:17] 3t01_ligand: Warning - no explicit hydrogens in mol2 file but needed for formal charge estimation.\n",
            "[13:12:19] 1bq4_ligand: Warning - no explicit hydrogens in mol2 file but needed for formal charge estimation.\n",
            "[13:12:25] 4ew2_ligand: warning - charged amidine and isFixed atom.\n",
            "[13:12:25] 1nki_ligand: Warning - no explicit hydrogens in mol2 file but needed for formal charge estimation.\n",
            "[13:12:25] 4ew3_ligand: warning - charged amidine and isFixed atom.\n"
          ]
        },
        {
          "name": "stdout",
          "output_type": "stream",
          "text": [
            "3509\n",
            "195\n",
            "torch.Size([1, 256])\n"
          ]
        }
      ],
      "source": [
        "# Now we know which IDs actually have protein pocket data\n",
        "# We can will remove those from our dataset and get SMILES embeddings for the remaining ones\n",
        "# None will be missing after this step\n",
        "train_smiles_embeddings = get_smiles_embeddings_list(train_ids)\n",
        "test_smiles_embeddings = get_smiles_embeddings_list(test_ids)\n",
        "\n",
        "print(len(train_smiles_embeddings))\n",
        "print(len(test_smiles_embeddings))\n",
        "print(train_smiles_embeddings[0].shape)"
      ]
    },
    {
      "cell_type": "code",
      "execution_count": 37,
      "id": "nio8tJs9D0na",
      "metadata": {
        "colab": {
          "base_uri": "https://localhost:8080/"
        },
        "id": "nio8tJs9D0na",
        "outputId": "8cc87002-1059-418d-98c3-09d39f06bd9c"
      },
      "outputs": [
        {
          "name": "stdout",
          "output_type": "stream",
          "text": [
            "torch.Size([1, 896])\n"
          ]
        }
      ],
      "source": [
        "def concatenate_embeddings(esm_embeddings, smiles_embeddings):\n",
        "    if len(esm_embeddings) != len(smiles_embeddings):\n",
        "        raise ValueError('Warning: both embedding lists arent the same size')\n",
        "    concatenated_embeddings = []\n",
        "    for i in range(len(esm_embeddings)):\n",
        "        embedding = torch.cat((esm_embeddings[i].to('cpu'), smiles_embeddings[i]), dim=1)\n",
        "        concatenated_embeddings.append(embedding)\n",
        "    return concatenated_embeddings\n",
        "\n",
        "\n",
        "X_train = concatenate_embeddings(train_esm_embeddings_reshaped, train_smiles_embeddings)\n",
        "X_test = concatenate_embeddings(test_esm_embeddings_reshaped, test_smiles_embeddings)\n",
        "print(train_embeddings[0].shape)"
      ]
    },
    {
      "cell_type": "code",
      "execution_count": 39,
      "id": "nT7iqIYuHhIj",
      "metadata": {
        "colab": {
          "base_uri": "https://localhost:8080/"
        },
        "id": "nT7iqIYuHhIj",
        "outputId": "c16b67c4-5c13-4b51-8316-c31f424133fd"
      },
      "outputs": [
        {
          "name": "stdout",
          "output_type": "stream",
          "text": [
            "3509\n",
            "3509\n",
            "195\n",
            "195\n"
          ]
        }
      ],
      "source": [
        "y_train = data['y_train']\n",
        "y_test = data['y_test']\n",
        "\n",
        "print(len(X_train))\n",
        "print(len(y_train))\n",
        "print(len(X_test))\n",
        "print(len(y_test))"
      ]
    },
    {
      "cell_type": "code",
      "execution_count": 41,
      "id": "47e36a50",
      "metadata": {
        "id": "47e36a50"
      },
      "outputs": [],
      "source": [
        "OUTPUT_PATH = \"./data/interim/reg_embeddings.npz\"\n",
        "np.savez(OUTPUT_PATH, X_train, X_test, y_train, y_test)"
      ]
    }
  ],
  "metadata": {
    "accelerator": "GPU",
    "colab": {
      "gpuType": "A100",
      "machine_shape": "hm",
      "provenance": []
    },
    "kernelspec": {
      "display_name": "cheminformatics_project",
      "language": "python",
      "name": "python3"
    },
    "language_info": {
      "codemirror_mode": {
        "name": "ipython",
        "version": 3
      },
      "file_extension": ".py",
      "mimetype": "text/x-python",
      "name": "python",
      "nbconvert_exporter": "python",
      "pygments_lexer": "ipython3",
      "version": "3.11.13"
    },
    "widgets": {
      "application/vnd.jupyter.widget-state+json": {
        "0b60df0adfb3451bb467abd29592931d": {
          "model_module": "@jupyter-widgets/controls",
          "model_module_version": "1.5.0",
          "model_name": "HTMLModel",
          "state": {
            "_dom_classes": [],
            "_model_module": "@jupyter-widgets/controls",
            "_model_module_version": "1.5.0",
            "_model_name": "HTMLModel",
            "_view_count": null,
            "_view_module": "@jupyter-widgets/controls",
            "_view_module_version": "1.5.0",
            "_view_name": "HTMLView",
            "description": "",
            "description_tooltip": null,
            "layout": "IPY_MODEL_bc1bf0ad3fee4b1ea406dca6b230bda3",
            "placeholder": "​",
            "style": "IPY_MODEL_404e3d2da5e249e899320b199d78fa0b",
            "value": " 19.2M/19.2M [00:01&lt;00:00, 10.0MB/s]"
          }
        },
        "30d22d78572e42e3bb9b314419c3946f": {
          "model_module": "@jupyter-widgets/controls",
          "model_module_version": "1.5.0",
          "model_name": "DescriptionStyleModel",
          "state": {
            "_model_module": "@jupyter-widgets/controls",
            "_model_module_version": "1.5.0",
            "_model_name": "DescriptionStyleModel",
            "_view_count": null,
            "_view_module": "@jupyter-widgets/base",
            "_view_module_version": "1.2.0",
            "_view_name": "StyleView",
            "description_width": ""
          }
        },
        "37f1b9ddfe07475e964e83becc1bcf60": {
          "model_module": "@jupyter-widgets/controls",
          "model_module_version": "1.5.0",
          "model_name": "HTMLModel",
          "state": {
            "_dom_classes": [],
            "_model_module": "@jupyter-widgets/controls",
            "_model_module_version": "1.5.0",
            "_model_name": "HTMLModel",
            "_view_count": null,
            "_view_module": "@jupyter-widgets/controls",
            "_view_module_version": "1.5.0",
            "_view_name": "HTMLView",
            "description": "",
            "description_tooltip": null,
            "layout": "IPY_MODEL_e1d457d3fd314d5593d6962aaa05c875",
            "placeholder": "​",
            "style": "IPY_MODEL_99d9f5dfe80a4b3c89db7406376836b0",
            "value": "model.safetensors: 100%"
          }
        },
        "404e3d2da5e249e899320b199d78fa0b": {
          "model_module": "@jupyter-widgets/controls",
          "model_module_version": "1.5.0",
          "model_name": "DescriptionStyleModel",
          "state": {
            "_model_module": "@jupyter-widgets/controls",
            "_model_module_version": "1.5.0",
            "_model_name": "DescriptionStyleModel",
            "_view_count": null,
            "_view_module": "@jupyter-widgets/base",
            "_view_module_version": "1.2.0",
            "_view_name": "StyleView",
            "description_width": ""
          }
        },
        "6888cde354714ce4b8db32922306f964": {
          "model_module": "@jupyter-widgets/controls",
          "model_module_version": "1.5.0",
          "model_name": "HTMLModel",
          "state": {
            "_dom_classes": [],
            "_model_module": "@jupyter-widgets/controls",
            "_model_module_version": "1.5.0",
            "_model_name": "HTMLModel",
            "_view_count": null,
            "_view_module": "@jupyter-widgets/controls",
            "_view_module_version": "1.5.0",
            "_view_name": "HTMLView",
            "description": "",
            "description_tooltip": null,
            "layout": "IPY_MODEL_a82357c7c38f48b498915778fd80667f",
            "placeholder": "​",
            "style": "IPY_MODEL_7c3a65c1898b41cdba7ef1a02b654bfd",
            "value": " 276/276 [00:00&lt;00:00, 35.2kB/s]"
          }
        },
        "7c3a65c1898b41cdba7ef1a02b654bfd": {
          "model_module": "@jupyter-widgets/controls",
          "model_module_version": "1.5.0",
          "model_name": "DescriptionStyleModel",
          "state": {
            "_model_module": "@jupyter-widgets/controls",
            "_model_module_version": "1.5.0",
            "_model_name": "DescriptionStyleModel",
            "_view_count": null,
            "_view_module": "@jupyter-widgets/base",
            "_view_module_version": "1.2.0",
            "_view_name": "StyleView",
            "description_width": ""
          }
        },
        "7e2d8cad8da64552b5f2280dd98ecb31": {
          "model_module": "@jupyter-widgets/controls",
          "model_module_version": "1.5.0",
          "model_name": "FloatProgressModel",
          "state": {
            "_dom_classes": [],
            "_model_module": "@jupyter-widgets/controls",
            "_model_module_version": "1.5.0",
            "_model_name": "FloatProgressModel",
            "_view_count": null,
            "_view_module": "@jupyter-widgets/controls",
            "_view_module_version": "1.5.0",
            "_view_name": "ProgressView",
            "bar_style": "success",
            "description": "",
            "description_tooltip": null,
            "layout": "IPY_MODEL_b27c0a035e0a4b41a186c15ef9344006",
            "max": 19193480,
            "min": 0,
            "orientation": "horizontal",
            "style": "IPY_MODEL_adc9516a7936435a96aae271a492b071",
            "value": 19193480
          }
        },
        "8a8d50ff936a42e78462c11d8f16e707": {
          "model_module": "@jupyter-widgets/base",
          "model_module_version": "1.2.0",
          "model_name": "LayoutModel",
          "state": {
            "_model_module": "@jupyter-widgets/base",
            "_model_module_version": "1.2.0",
            "_model_name": "LayoutModel",
            "_view_count": null,
            "_view_module": "@jupyter-widgets/base",
            "_view_module_version": "1.2.0",
            "_view_name": "LayoutView",
            "align_content": null,
            "align_items": null,
            "align_self": null,
            "border": null,
            "bottom": null,
            "display": null,
            "flex": null,
            "flex_flow": null,
            "grid_area": null,
            "grid_auto_columns": null,
            "grid_auto_flow": null,
            "grid_auto_rows": null,
            "grid_column": null,
            "grid_gap": null,
            "grid_row": null,
            "grid_template_areas": null,
            "grid_template_columns": null,
            "grid_template_rows": null,
            "height": null,
            "justify_content": null,
            "justify_items": null,
            "left": null,
            "margin": null,
            "max_height": null,
            "max_width": null,
            "min_height": null,
            "min_width": null,
            "object_fit": null,
            "object_position": null,
            "order": null,
            "overflow": null,
            "overflow_x": null,
            "overflow_y": null,
            "padding": null,
            "right": null,
            "top": null,
            "visibility": null,
            "width": null
          }
        },
        "8c52e1cbea754571b10dc91c0f5ab9eb": {
          "model_module": "@jupyter-widgets/base",
          "model_module_version": "1.2.0",
          "model_name": "LayoutModel",
          "state": {
            "_model_module": "@jupyter-widgets/base",
            "_model_module_version": "1.2.0",
            "_model_name": "LayoutModel",
            "_view_count": null,
            "_view_module": "@jupyter-widgets/base",
            "_view_module_version": "1.2.0",
            "_view_name": "LayoutView",
            "align_content": null,
            "align_items": null,
            "align_self": null,
            "border": null,
            "bottom": null,
            "display": null,
            "flex": null,
            "flex_flow": null,
            "grid_area": null,
            "grid_auto_columns": null,
            "grid_auto_flow": null,
            "grid_auto_rows": null,
            "grid_column": null,
            "grid_gap": null,
            "grid_row": null,
            "grid_template_areas": null,
            "grid_template_columns": null,
            "grid_template_rows": null,
            "height": null,
            "justify_content": null,
            "justify_items": null,
            "left": null,
            "margin": null,
            "max_height": null,
            "max_width": null,
            "min_height": null,
            "min_width": null,
            "object_fit": null,
            "object_position": null,
            "order": null,
            "overflow": null,
            "overflow_x": null,
            "overflow_y": null,
            "padding": null,
            "right": null,
            "top": null,
            "visibility": null,
            "width": null
          }
        },
        "96d699ecc55f40178d3753ee4052bccd": {
          "model_module": "@jupyter-widgets/controls",
          "model_module_version": "1.5.0",
          "model_name": "ProgressStyleModel",
          "state": {
            "_model_module": "@jupyter-widgets/controls",
            "_model_module_version": "1.5.0",
            "_model_name": "ProgressStyleModel",
            "_view_count": null,
            "_view_module": "@jupyter-widgets/base",
            "_view_module_version": "1.2.0",
            "_view_name": "StyleView",
            "bar_color": null,
            "description_width": ""
          }
        },
        "99d9f5dfe80a4b3c89db7406376836b0": {
          "model_module": "@jupyter-widgets/controls",
          "model_module_version": "1.5.0",
          "model_name": "DescriptionStyleModel",
          "state": {
            "_model_module": "@jupyter-widgets/controls",
            "_model_module_version": "1.5.0",
            "_model_name": "DescriptionStyleModel",
            "_view_count": null,
            "_view_module": "@jupyter-widgets/base",
            "_view_module_version": "1.2.0",
            "_view_name": "StyleView",
            "description_width": ""
          }
        },
        "9a3f92bd71724fe9bb00d060f5f0df3a": {
          "model_module": "@jupyter-widgets/base",
          "model_module_version": "1.2.0",
          "model_name": "LayoutModel",
          "state": {
            "_model_module": "@jupyter-widgets/base",
            "_model_module_version": "1.2.0",
            "_model_name": "LayoutModel",
            "_view_count": null,
            "_view_module": "@jupyter-widgets/base",
            "_view_module_version": "1.2.0",
            "_view_name": "LayoutView",
            "align_content": null,
            "align_items": null,
            "align_self": null,
            "border": null,
            "bottom": null,
            "display": null,
            "flex": null,
            "flex_flow": null,
            "grid_area": null,
            "grid_auto_columns": null,
            "grid_auto_flow": null,
            "grid_auto_rows": null,
            "grid_column": null,
            "grid_gap": null,
            "grid_row": null,
            "grid_template_areas": null,
            "grid_template_columns": null,
            "grid_template_rows": null,
            "height": null,
            "justify_content": null,
            "justify_items": null,
            "left": null,
            "margin": null,
            "max_height": null,
            "max_width": null,
            "min_height": null,
            "min_width": null,
            "object_fit": null,
            "object_position": null,
            "order": null,
            "overflow": null,
            "overflow_x": null,
            "overflow_y": null,
            "padding": null,
            "right": null,
            "top": null,
            "visibility": null,
            "width": null
          }
        },
        "9dec2350a3f34da5b772067f3cf5c622": {
          "model_module": "@jupyter-widgets/controls",
          "model_module_version": "1.5.0",
          "model_name": "HTMLModel",
          "state": {
            "_dom_classes": [],
            "_model_module": "@jupyter-widgets/controls",
            "_model_module_version": "1.5.0",
            "_model_name": "HTMLModel",
            "_view_count": null,
            "_view_module": "@jupyter-widgets/controls",
            "_view_module_version": "1.5.0",
            "_view_name": "HTMLView",
            "description": "",
            "description_tooltip": null,
            "layout": "IPY_MODEL_8c52e1cbea754571b10dc91c0f5ab9eb",
            "placeholder": "​",
            "style": "IPY_MODEL_30d22d78572e42e3bb9b314419c3946f",
            "value": "config.json: 100%"
          }
        },
        "a82357c7c38f48b498915778fd80667f": {
          "model_module": "@jupyter-widgets/base",
          "model_module_version": "1.2.0",
          "model_name": "LayoutModel",
          "state": {
            "_model_module": "@jupyter-widgets/base",
            "_model_module_version": "1.2.0",
            "_model_name": "LayoutModel",
            "_view_count": null,
            "_view_module": "@jupyter-widgets/base",
            "_view_module_version": "1.2.0",
            "_view_name": "LayoutView",
            "align_content": null,
            "align_items": null,
            "align_self": null,
            "border": null,
            "bottom": null,
            "display": null,
            "flex": null,
            "flex_flow": null,
            "grid_area": null,
            "grid_auto_columns": null,
            "grid_auto_flow": null,
            "grid_auto_rows": null,
            "grid_column": null,
            "grid_gap": null,
            "grid_row": null,
            "grid_template_areas": null,
            "grid_template_columns": null,
            "grid_template_rows": null,
            "height": null,
            "justify_content": null,
            "justify_items": null,
            "left": null,
            "margin": null,
            "max_height": null,
            "max_width": null,
            "min_height": null,
            "min_width": null,
            "object_fit": null,
            "object_position": null,
            "order": null,
            "overflow": null,
            "overflow_x": null,
            "overflow_y": null,
            "padding": null,
            "right": null,
            "top": null,
            "visibility": null,
            "width": null
          }
        },
        "ad47aff76d594a8ba678721ccecaee74": {
          "model_module": "@jupyter-widgets/controls",
          "model_module_version": "1.5.0",
          "model_name": "HBoxModel",
          "state": {
            "_dom_classes": [],
            "_model_module": "@jupyter-widgets/controls",
            "_model_module_version": "1.5.0",
            "_model_name": "HBoxModel",
            "_view_count": null,
            "_view_module": "@jupyter-widgets/controls",
            "_view_module_version": "1.5.0",
            "_view_name": "HBoxView",
            "box_style": "",
            "children": [
              "IPY_MODEL_37f1b9ddfe07475e964e83becc1bcf60",
              "IPY_MODEL_7e2d8cad8da64552b5f2280dd98ecb31",
              "IPY_MODEL_0b60df0adfb3451bb467abd29592931d"
            ],
            "layout": "IPY_MODEL_8a8d50ff936a42e78462c11d8f16e707"
          }
        },
        "adc9516a7936435a96aae271a492b071": {
          "model_module": "@jupyter-widgets/controls",
          "model_module_version": "1.5.0",
          "model_name": "ProgressStyleModel",
          "state": {
            "_model_module": "@jupyter-widgets/controls",
            "_model_module_version": "1.5.0",
            "_model_name": "ProgressStyleModel",
            "_view_count": null,
            "_view_module": "@jupyter-widgets/base",
            "_view_module_version": "1.2.0",
            "_view_name": "StyleView",
            "bar_color": null,
            "description_width": ""
          }
        },
        "b27c0a035e0a4b41a186c15ef9344006": {
          "model_module": "@jupyter-widgets/base",
          "model_module_version": "1.2.0",
          "model_name": "LayoutModel",
          "state": {
            "_model_module": "@jupyter-widgets/base",
            "_model_module_version": "1.2.0",
            "_model_name": "LayoutModel",
            "_view_count": null,
            "_view_module": "@jupyter-widgets/base",
            "_view_module_version": "1.2.0",
            "_view_name": "LayoutView",
            "align_content": null,
            "align_items": null,
            "align_self": null,
            "border": null,
            "bottom": null,
            "display": null,
            "flex": null,
            "flex_flow": null,
            "grid_area": null,
            "grid_auto_columns": null,
            "grid_auto_flow": null,
            "grid_auto_rows": null,
            "grid_column": null,
            "grid_gap": null,
            "grid_row": null,
            "grid_template_areas": null,
            "grid_template_columns": null,
            "grid_template_rows": null,
            "height": null,
            "justify_content": null,
            "justify_items": null,
            "left": null,
            "margin": null,
            "max_height": null,
            "max_width": null,
            "min_height": null,
            "min_width": null,
            "object_fit": null,
            "object_position": null,
            "order": null,
            "overflow": null,
            "overflow_x": null,
            "overflow_y": null,
            "padding": null,
            "right": null,
            "top": null,
            "visibility": null,
            "width": null
          }
        },
        "bc1bf0ad3fee4b1ea406dca6b230bda3": {
          "model_module": "@jupyter-widgets/base",
          "model_module_version": "1.2.0",
          "model_name": "LayoutModel",
          "state": {
            "_model_module": "@jupyter-widgets/base",
            "_model_module_version": "1.2.0",
            "_model_name": "LayoutModel",
            "_view_count": null,
            "_view_module": "@jupyter-widgets/base",
            "_view_module_version": "1.2.0",
            "_view_name": "LayoutView",
            "align_content": null,
            "align_items": null,
            "align_self": null,
            "border": null,
            "bottom": null,
            "display": null,
            "flex": null,
            "flex_flow": null,
            "grid_area": null,
            "grid_auto_columns": null,
            "grid_auto_flow": null,
            "grid_auto_rows": null,
            "grid_column": null,
            "grid_gap": null,
            "grid_row": null,
            "grid_template_areas": null,
            "grid_template_columns": null,
            "grid_template_rows": null,
            "height": null,
            "justify_content": null,
            "justify_items": null,
            "left": null,
            "margin": null,
            "max_height": null,
            "max_width": null,
            "min_height": null,
            "min_width": null,
            "object_fit": null,
            "object_position": null,
            "order": null,
            "overflow": null,
            "overflow_x": null,
            "overflow_y": null,
            "padding": null,
            "right": null,
            "top": null,
            "visibility": null,
            "width": null
          }
        },
        "c21384279c7848eb95ef338b82f4a431": {
          "model_module": "@jupyter-widgets/controls",
          "model_module_version": "1.5.0",
          "model_name": "FloatProgressModel",
          "state": {
            "_dom_classes": [],
            "_model_module": "@jupyter-widgets/controls",
            "_model_module_version": "1.5.0",
            "_model_name": "FloatProgressModel",
            "_view_count": null,
            "_view_module": "@jupyter-widgets/controls",
            "_view_module_version": "1.5.0",
            "_view_name": "ProgressView",
            "bar_style": "success",
            "description": "",
            "description_tooltip": null,
            "layout": "IPY_MODEL_e1b08f8c168b413f91136f691f06ec82",
            "max": 276,
            "min": 0,
            "orientation": "horizontal",
            "style": "IPY_MODEL_96d699ecc55f40178d3753ee4052bccd",
            "value": 276
          }
        },
        "e1b08f8c168b413f91136f691f06ec82": {
          "model_module": "@jupyter-widgets/base",
          "model_module_version": "1.2.0",
          "model_name": "LayoutModel",
          "state": {
            "_model_module": "@jupyter-widgets/base",
            "_model_module_version": "1.2.0",
            "_model_name": "LayoutModel",
            "_view_count": null,
            "_view_module": "@jupyter-widgets/base",
            "_view_module_version": "1.2.0",
            "_view_name": "LayoutView",
            "align_content": null,
            "align_items": null,
            "align_self": null,
            "border": null,
            "bottom": null,
            "display": null,
            "flex": null,
            "flex_flow": null,
            "grid_area": null,
            "grid_auto_columns": null,
            "grid_auto_flow": null,
            "grid_auto_rows": null,
            "grid_column": null,
            "grid_gap": null,
            "grid_row": null,
            "grid_template_areas": null,
            "grid_template_columns": null,
            "grid_template_rows": null,
            "height": null,
            "justify_content": null,
            "justify_items": null,
            "left": null,
            "margin": null,
            "max_height": null,
            "max_width": null,
            "min_height": null,
            "min_width": null,
            "object_fit": null,
            "object_position": null,
            "order": null,
            "overflow": null,
            "overflow_x": null,
            "overflow_y": null,
            "padding": null,
            "right": null,
            "top": null,
            "visibility": null,
            "width": null
          }
        },
        "e1d457d3fd314d5593d6962aaa05c875": {
          "model_module": "@jupyter-widgets/base",
          "model_module_version": "1.2.0",
          "model_name": "LayoutModel",
          "state": {
            "_model_module": "@jupyter-widgets/base",
            "_model_module_version": "1.2.0",
            "_model_name": "LayoutModel",
            "_view_count": null,
            "_view_module": "@jupyter-widgets/base",
            "_view_module_version": "1.2.0",
            "_view_name": "LayoutView",
            "align_content": null,
            "align_items": null,
            "align_self": null,
            "border": null,
            "bottom": null,
            "display": null,
            "flex": null,
            "flex_flow": null,
            "grid_area": null,
            "grid_auto_columns": null,
            "grid_auto_flow": null,
            "grid_auto_rows": null,
            "grid_column": null,
            "grid_gap": null,
            "grid_row": null,
            "grid_template_areas": null,
            "grid_template_columns": null,
            "grid_template_rows": null,
            "height": null,
            "justify_content": null,
            "justify_items": null,
            "left": null,
            "margin": null,
            "max_height": null,
            "max_width": null,
            "min_height": null,
            "min_width": null,
            "object_fit": null,
            "object_position": null,
            "order": null,
            "overflow": null,
            "overflow_x": null,
            "overflow_y": null,
            "padding": null,
            "right": null,
            "top": null,
            "visibility": null,
            "width": null
          }
        },
        "fe7c1184d2a84b1aa545b66bd47a14a9": {
          "model_module": "@jupyter-widgets/controls",
          "model_module_version": "1.5.0",
          "model_name": "HBoxModel",
          "state": {
            "_dom_classes": [],
            "_model_module": "@jupyter-widgets/controls",
            "_model_module_version": "1.5.0",
            "_model_name": "HBoxModel",
            "_view_count": null,
            "_view_module": "@jupyter-widgets/controls",
            "_view_module_version": "1.5.0",
            "_view_name": "HBoxView",
            "box_style": "",
            "children": [
              "IPY_MODEL_9dec2350a3f34da5b772067f3cf5c622",
              "IPY_MODEL_c21384279c7848eb95ef338b82f4a431",
              "IPY_MODEL_6888cde354714ce4b8db32922306f964"
            ],
            "layout": "IPY_MODEL_9a3f92bd71724fe9bb00d060f5f0df3a"
          }
        }
      }
    }
  },
  "nbformat": 4,
  "nbformat_minor": 5
}

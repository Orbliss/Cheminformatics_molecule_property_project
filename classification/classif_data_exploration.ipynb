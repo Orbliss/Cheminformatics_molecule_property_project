{
 "cells": [
  {
   "cell_type": "markdown",
   "id": "b3fb185a",
   "metadata": {},
   "source": [
    "# Data exploration notebook for the SIDER datasete"
   ]
  },
  {
   "cell_type": "markdown",
   "id": "af736166",
   "metadata": {},
   "source": [
    "## 1. Import dataset"
   ]
  },
  {
   "cell_type": "code",
   "execution_count": null,
   "id": "e01935d9",
   "metadata": {},
   "outputs": [
    {
     "name": "stdout",
     "output_type": "stream",
     "text": [
      "Datasets non trouvés, téléchargement en cours...\n"
     ]
    }
   ],
   "source": [
    "from pathlib import Path\n",
    "import subprocess\n",
    "\n",
    "# Chemin vers le dossier data (au même niveau que regression)\n",
    "# Path.cwd() correspond au dossier depuis lequel tu as lancé le notebook\n",
    "data_dir = Path.cwd().parent / \"data\"\n",
    "\n",
    "# Exemple : vérifier si un fichier spécifique est présent\n",
    "sider_file = data_dir / \"sider_dataset.csv\"\n",
    "\n",
    "# Si les fichiers n'existent pas, lancer le script de téléchargement\n",
    "if not sider_file.exists():\n",
    "    print(\"Datasets non trouvés, téléchargement en cours...\")\n",
    "    # On suppose que le script download_dataset.py est à la racine du projet\n",
    "    subprocess.run([\"python\", str(Path.cwd().parent / \"src\" / \"download_dataset.py\")])\n",
    "else:\n",
    "    print(\"Datasets déjà présents.\")\n"
   ]
  }
 ],
 "metadata": {
  "kernelspec": {
   "display_name": "Python 3",
   "language": "python",
   "name": "python3"
  },
  "language_info": {
   "codemirror_mode": {
    "name": "ipython",
    "version": 3
   },
   "file_extension": ".py",
   "mimetype": "text/x-python",
   "name": "python",
   "nbconvert_exporter": "python",
   "pygments_lexer": "ipython3",
   "version": "3.12.10"
  }
 },
 "nbformat": 4,
 "nbformat_minor": 5
}

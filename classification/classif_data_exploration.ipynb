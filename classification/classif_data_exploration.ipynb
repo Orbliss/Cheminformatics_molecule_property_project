{
 "cells": [
  {
   "cell_type": "markdown",
   "id": "b3fb185a",
   "metadata": {},
   "source": [
    "# Data exploration notebook for the SIDER datasete"
   ]
  },
  {
   "cell_type": "markdown",
   "id": "af736166",
   "metadata": {},
   "source": [
    "## 1. Import dataset"
   ]
  },
  {
   "cell_type": "code",
   "execution_count": null,
   "id": "e01935d9",
   "metadata": {},
   "outputs": [
    {
     "name": "stdout",
     "output_type": "stream",
     "text": [
      "Datasets non trouvés, téléchargement en cours...\n"
     ]
    }
   ],
   "source": [
    "from pathlib import Path\n",
    "import subprocess\n",
    "\n",
    "# Chemin vers le dossier data (au même niveau que regression)\n",
    "# Path.cwd() correspond au dossier depuis lequel tu as lancé le notebook\n",
    "data_dir = Path.cwd().parent / \"data\"\n",
    "\n",
    "# Exemple : vérifier si un fichier spécifique est présent\n",
    "sider_file = data_dir / \"sider_dataset.csv\"\n",
    "\n",
    "# Si les fichiers n'existent pas, lancer le script de téléchargement\n",
    "if not sider_file.exists():\n",
    "    print(\"Dataset non trouvés, téléchargement en cours...\")\n",
    "    # On suppose que le script download_dataset.py est à la racine du projet\n",
    "    subprocess.run([\"python\", str(Path.cwd().parent / \"src\" / \"download_dataset.py\")])\n",
    "else:\n",
    "    print(\"Dataset déjà présents.\")"
   ]
  },
  {
   "cell_type": "code",
   "execution_count": 1,
   "id": "d86ed3ba",
   "metadata": {},
   "outputs": [
    {
     "name": "stderr",
     "output_type": "stream",
     "text": [
      "<>:3: SyntaxWarning: invalid escape sequence '\\s'\n",
      "<>:4: SyntaxWarning: invalid escape sequence '\\s'\n",
      "<>:3: SyntaxWarning: invalid escape sequence '\\s'\n",
      "<>:4: SyntaxWarning: invalid escape sequence '\\s'\n",
      "C:\\Users\\robon\\AppData\\Local\\Temp\\ipykernel_7624\\809785473.py:3: SyntaxWarning: invalid escape sequence '\\s'\n",
      "  df_train = pd.read_csv(\"data\\sider\\train.csv\")\n",
      "C:\\Users\\robon\\AppData\\Local\\Temp\\ipykernel_7624\\809785473.py:4: SyntaxWarning: invalid escape sequence '\\s'\n",
      "  df_test = pd.read_csv(\"data\\sider\\test.csv\")\n",
      "C:\\Users\\robon\\AppData\\Local\\Temp\\ipykernel_7624\\809785473.py:3: SyntaxWarning: invalid escape sequence '\\s'\n",
      "  df_train = pd.read_csv(\"data\\sider\\train.csv\")\n",
      "C:\\Users\\robon\\AppData\\Local\\Temp\\ipykernel_7624\\809785473.py:4: SyntaxWarning: invalid escape sequence '\\s'\n",
      "  df_test = pd.read_csv(\"data\\sider\\test.csv\")\n"
     ]
    },
    {
     "ename": "ModuleNotFoundError",
     "evalue": "No module named 'pandas'",
     "output_type": "error",
     "traceback": [
      "\u001b[31m---------------------------------------------------------------------------\u001b[39m",
      "\u001b[31mModuleNotFoundError\u001b[39m                       Traceback (most recent call last)",
      "\u001b[36mCell\u001b[39m\u001b[36m \u001b[39m\u001b[32mIn[1]\u001b[39m\u001b[32m, line 1\u001b[39m\n\u001b[32m----> \u001b[39m\u001b[32m1\u001b[39m \u001b[38;5;28;01mimport\u001b[39;00m\u001b[38;5;250m \u001b[39m\u001b[34;01mpandas\u001b[39;00m\u001b[38;5;250m \u001b[39m\u001b[38;5;28;01mas\u001b[39;00m\u001b[38;5;250m \u001b[39m\u001b[34;01mpd\u001b[39;00m\n\u001b[32m      3\u001b[39m df_train = pd.read_csv(\u001b[33m\"\u001b[39m\u001b[33mdata\u001b[39m\u001b[33m\\\u001b[39m\u001b[33msider\u001b[39m\u001b[38;5;130;01m\\t\u001b[39;00m\u001b[33mrain.csv\u001b[39m\u001b[33m\"\u001b[39m)\n\u001b[32m      4\u001b[39m df_test = pd.read_csv(\u001b[33m\"\u001b[39m\u001b[33mdata\u001b[39m\u001b[33m\\\u001b[39m\u001b[33msider\u001b[39m\u001b[38;5;130;01m\\t\u001b[39;00m\u001b[33mest.csv\u001b[39m\u001b[33m\"\u001b[39m)\n",
      "\u001b[31mModuleNotFoundError\u001b[39m: No module named 'pandas'"
     ]
    }
   ],
   "source": [
    "import pandas as pd\n",
    "\n",
    "df_train = pd.read_csv(\"data\\sider\\train.csv\")\n",
    "df_test = pd.read_csv(\"data\\sider\\test.csv\")\n",
    "df_valid = pd.read_csv(\"data/sider/valid.csv\")"
   ]
  },
  {
   "cell_type": "markdown",
   "id": "60ada4ec",
   "metadata": {},
   "source": []
  }
 ],
 "metadata": {
  "kernelspec": {
   "display_name": "Python 3",
   "language": "python",
   "name": "python3"
  },
  "language_info": {
   "codemirror_mode": {
    "name": "ipython",
    "version": 3
   },
   "file_extension": ".py",
   "mimetype": "text/x-python",
   "name": "python",
   "nbconvert_exporter": "python",
   "pygments_lexer": "ipython3",
   "version": "3.12.10"
  }
 },
 "nbformat": 4,
 "nbformat_minor": 5
}
